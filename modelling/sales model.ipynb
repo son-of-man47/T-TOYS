{
 "cells": [
  {
   "cell_type": "code",
   "execution_count": 1,
   "id": "b539a97c",
   "metadata": {},
   "outputs": [],
   "source": [
    "import pandas as pd\n",
    "import numpy as np\n",
    "import matplotlib.pyplot as plt\n",
    "%matplotlib inline\n",
    "import seaborn as sns\n",
    "\n",
    "from sklearn.model_selection import train_test_split\n",
    "from sklearn.metrics import r2_score, mean_absolute_error, mean_squared_error\n",
    "from sklearn.linear_model import Lasso, LinearRegression, Ridge\n",
    "from sklearn.tree import DecisionTreeRegressor\n",
    "from sklearn.svm import SVR\n",
    "from sklearn.neighbors import KNeighborsRegressor\n",
    "from catboost import CatBoostRegressor\n",
    "from xgboost import XGBRegressor\n",
    "from sklearn.preprocessing import MinMaxScaler, LabelEncoder, OneHotEncoder\n",
    "from sklearn.ensemble import RandomForestRegressor, GradientBoostingRegressor"
   ]
  },
  {
   "cell_type": "code",
   "execution_count": 2,
   "id": "e83410cd",
   "metadata": {},
   "outputs": [
    {
     "data": {
      "text/html": [
       "<div>\n",
       "<style scoped>\n",
       "    .dataframe tbody tr th:only-of-type {\n",
       "        vertical-align: middle;\n",
       "    }\n",
       "\n",
       "    .dataframe tbody tr th {\n",
       "        vertical-align: top;\n",
       "    }\n",
       "\n",
       "    .dataframe thead th {\n",
       "        text-align: right;\n",
       "    }\n",
       "</style>\n",
       "<table border=\"1\" class=\"dataframe\">\n",
       "  <thead>\n",
       "    <tr style=\"text-align: right;\">\n",
       "      <th></th>\n",
       "      <th>ordernumber</th>\n",
       "      <th>productline</th>\n",
       "      <th>quantityordered</th>\n",
       "      <th>dealsize</th>\n",
       "      <th>priceeach</th>\n",
       "      <th>sales</th>\n",
       "      <th>msrp</th>\n",
       "      <th>expsales</th>\n",
       "      <th>profit_loss</th>\n",
       "      <th>orderlinenumber</th>\n",
       "      <th>...</th>\n",
       "      <th>dayordered</th>\n",
       "      <th>yearorders</th>\n",
       "      <th>qtr_id</th>\n",
       "      <th>productcode</th>\n",
       "      <th>customername</th>\n",
       "      <th>contactnames</th>\n",
       "      <th>phone</th>\n",
       "      <th>addressline1</th>\n",
       "      <th>city</th>\n",
       "      <th>country</th>\n",
       "    </tr>\n",
       "  </thead>\n",
       "  <tbody>\n",
       "    <tr>\n",
       "      <th>0</th>\n",
       "      <td>10107</td>\n",
       "      <td>Motorcycles</td>\n",
       "      <td>30</td>\n",
       "      <td>Small</td>\n",
       "      <td>95.70</td>\n",
       "      <td>2871.00</td>\n",
       "      <td>95</td>\n",
       "      <td>2850</td>\n",
       "      <td>21.00</td>\n",
       "      <td>2</td>\n",
       "      <td>...</td>\n",
       "      <td>24</td>\n",
       "      <td>2003</td>\n",
       "      <td>1</td>\n",
       "      <td>S10_1678</td>\n",
       "      <td>Land of Toys Inc.</td>\n",
       "      <td>Kwai Yu</td>\n",
       "      <td>2125557818</td>\n",
       "      <td>897 Long Airport Avenue</td>\n",
       "      <td>NYC</td>\n",
       "      <td>USA</td>\n",
       "    </tr>\n",
       "    <tr>\n",
       "      <th>1</th>\n",
       "      <td>10121</td>\n",
       "      <td>Motorcycles</td>\n",
       "      <td>34</td>\n",
       "      <td>Small</td>\n",
       "      <td>81.35</td>\n",
       "      <td>2765.90</td>\n",
       "      <td>95</td>\n",
       "      <td>3230</td>\n",
       "      <td>-464.10</td>\n",
       "      <td>5</td>\n",
       "      <td>...</td>\n",
       "      <td>7</td>\n",
       "      <td>2003</td>\n",
       "      <td>2</td>\n",
       "      <td>S10_1678</td>\n",
       "      <td>Reims Collectables</td>\n",
       "      <td>Paul Henriot</td>\n",
       "      <td>26.47.1555</td>\n",
       "      <td>59 rue de l'Abbaye</td>\n",
       "      <td>Reims</td>\n",
       "      <td>France</td>\n",
       "    </tr>\n",
       "    <tr>\n",
       "      <th>2</th>\n",
       "      <td>10134</td>\n",
       "      <td>Motorcycles</td>\n",
       "      <td>41</td>\n",
       "      <td>Medium</td>\n",
       "      <td>94.74</td>\n",
       "      <td>3884.34</td>\n",
       "      <td>95</td>\n",
       "      <td>3895</td>\n",
       "      <td>-10.66</td>\n",
       "      <td>2</td>\n",
       "      <td>...</td>\n",
       "      <td>1</td>\n",
       "      <td>2003</td>\n",
       "      <td>3</td>\n",
       "      <td>S10_1678</td>\n",
       "      <td>Lyon Souveniers</td>\n",
       "      <td>Daniel Da Cunha</td>\n",
       "      <td>+33 1 46 62 7555</td>\n",
       "      <td>27 rue du Colonel Pierre Avia</td>\n",
       "      <td>Paris</td>\n",
       "      <td>France</td>\n",
       "    </tr>\n",
       "    <tr>\n",
       "      <th>3</th>\n",
       "      <td>10145</td>\n",
       "      <td>Motorcycles</td>\n",
       "      <td>45</td>\n",
       "      <td>Medium</td>\n",
       "      <td>83.26</td>\n",
       "      <td>3746.70</td>\n",
       "      <td>95</td>\n",
       "      <td>4275</td>\n",
       "      <td>-528.30</td>\n",
       "      <td>6</td>\n",
       "      <td>...</td>\n",
       "      <td>25</td>\n",
       "      <td>2003</td>\n",
       "      <td>3</td>\n",
       "      <td>S10_1678</td>\n",
       "      <td>Toys4GrownUps.com</td>\n",
       "      <td>Julie Young</td>\n",
       "      <td>6265557265</td>\n",
       "      <td>78934 Hillside Dr.</td>\n",
       "      <td>Pasadena</td>\n",
       "      <td>USA</td>\n",
       "    </tr>\n",
       "    <tr>\n",
       "      <th>4</th>\n",
       "      <td>10159</td>\n",
       "      <td>Motorcycles</td>\n",
       "      <td>49</td>\n",
       "      <td>Medium</td>\n",
       "      <td>100.00</td>\n",
       "      <td>4900.00</td>\n",
       "      <td>95</td>\n",
       "      <td>4655</td>\n",
       "      <td>245.00</td>\n",
       "      <td>14</td>\n",
       "      <td>...</td>\n",
       "      <td>10</td>\n",
       "      <td>2003</td>\n",
       "      <td>4</td>\n",
       "      <td>S10_1678</td>\n",
       "      <td>Corporate Gift Ideas Co.</td>\n",
       "      <td>Julie Brown</td>\n",
       "      <td>6505551386</td>\n",
       "      <td>7734 Strong St.</td>\n",
       "      <td>San Francisco</td>\n",
       "      <td>USA</td>\n",
       "    </tr>\n",
       "  </tbody>\n",
       "</table>\n",
       "<p>5 rows × 22 columns</p>\n",
       "</div>"
      ],
      "text/plain": [
       "   ordernumber  productline  quantityordered dealsize  priceeach    sales  \\\n",
       "0        10107  Motorcycles               30    Small      95.70  2871.00   \n",
       "1        10121  Motorcycles               34    Small      81.35  2765.90   \n",
       "2        10134  Motorcycles               41   Medium      94.74  3884.34   \n",
       "3        10145  Motorcycles               45   Medium      83.26  3746.70   \n",
       "4        10159  Motorcycles               49   Medium     100.00  4900.00   \n",
       "\n",
       "   msrp  expsales  profit_loss  orderlinenumber  ... dayordered yearorders  \\\n",
       "0    95      2850        21.00                2  ...         24       2003   \n",
       "1    95      3230      -464.10                5  ...          7       2003   \n",
       "2    95      3895       -10.66                2  ...          1       2003   \n",
       "3    95      4275      -528.30                6  ...         25       2003   \n",
       "4    95      4655       245.00               14  ...         10       2003   \n",
       "\n",
       "   qtr_id  productcode              customername     contactnames  \\\n",
       "0       1     S10_1678         Land of Toys Inc.          Kwai Yu   \n",
       "1       2     S10_1678        Reims Collectables     Paul Henriot   \n",
       "2       3     S10_1678           Lyon Souveniers  Daniel Da Cunha   \n",
       "3       3     S10_1678         Toys4GrownUps.com      Julie Young   \n",
       "4       4     S10_1678  Corporate Gift Ideas Co.      Julie Brown   \n",
       "\n",
       "              phone                   addressline1           city country  \n",
       "0        2125557818        897 Long Airport Avenue            NYC     USA  \n",
       "1        26.47.1555             59 rue de l'Abbaye          Reims  France  \n",
       "2  +33 1 46 62 7555  27 rue du Colonel Pierre Avia          Paris  France  \n",
       "3        6265557265             78934 Hillside Dr.       Pasadena     USA  \n",
       "4        6505551386                7734 Strong St.  San Francisco     USA  \n",
       "\n",
       "[5 rows x 22 columns]"
      ]
     },
     "execution_count": 2,
     "metadata": {},
     "output_type": "execute_result"
    }
   ],
   "source": [
    "dt = pd.read_csv(\"sales_cleaned.csv\", encoding = \"unicode_escape\")\n",
    "df = dt.copy()\n",
    "df.head()"
   ]
  },
  {
   "cell_type": "code",
   "execution_count": null,
   "id": "6e1cf0a6",
   "metadata": {},
   "outputs": [],
   "source": []
  },
  {
   "cell_type": "markdown",
   "id": "a4f64938",
   "metadata": {},
   "source": [
    "## DROPPING COLUMNS THAT MAY NOT BE NEEDED FPR OUR MODELLING"
   ]
  },
  {
   "cell_type": "code",
   "execution_count": null,
   "id": "915f0e44",
   "metadata": {},
   "outputs": [],
   "source": []
  },
  {
   "cell_type": "code",
   "execution_count": 3,
   "id": "433bb66b",
   "metadata": {},
   "outputs": [],
   "source": [
    "df = df.drop([\"orderlinenumber\", \"status\", \"dayordered\", \"yearorders\", \"productcode\",\n",
    "             \"customername\", \"contactnames\", \"phone\", \"addressline1\", \"ordernumber\"], axis = 1)"
   ]
  },
  {
   "cell_type": "code",
   "execution_count": 4,
   "id": "637aaf9c",
   "metadata": {},
   "outputs": [
    {
     "data": {
      "text/html": [
       "<div>\n",
       "<style scoped>\n",
       "    .dataframe tbody tr th:only-of-type {\n",
       "        vertical-align: middle;\n",
       "    }\n",
       "\n",
       "    .dataframe tbody tr th {\n",
       "        vertical-align: top;\n",
       "    }\n",
       "\n",
       "    .dataframe thead th {\n",
       "        text-align: right;\n",
       "    }\n",
       "</style>\n",
       "<table border=\"1\" class=\"dataframe\">\n",
       "  <thead>\n",
       "    <tr style=\"text-align: right;\">\n",
       "      <th></th>\n",
       "      <th>productline</th>\n",
       "      <th>quantityordered</th>\n",
       "      <th>dealsize</th>\n",
       "      <th>priceeach</th>\n",
       "      <th>sales</th>\n",
       "      <th>msrp</th>\n",
       "      <th>expsales</th>\n",
       "      <th>profit_loss</th>\n",
       "      <th>monthordered</th>\n",
       "      <th>qtr_id</th>\n",
       "      <th>city</th>\n",
       "      <th>country</th>\n",
       "    </tr>\n",
       "  </thead>\n",
       "  <tbody>\n",
       "    <tr>\n",
       "      <th>0</th>\n",
       "      <td>Motorcycles</td>\n",
       "      <td>30</td>\n",
       "      <td>Small</td>\n",
       "      <td>95.70</td>\n",
       "      <td>2871.00</td>\n",
       "      <td>95</td>\n",
       "      <td>2850</td>\n",
       "      <td>21.00</td>\n",
       "      <td>February</td>\n",
       "      <td>1</td>\n",
       "      <td>NYC</td>\n",
       "      <td>USA</td>\n",
       "    </tr>\n",
       "    <tr>\n",
       "      <th>1</th>\n",
       "      <td>Motorcycles</td>\n",
       "      <td>34</td>\n",
       "      <td>Small</td>\n",
       "      <td>81.35</td>\n",
       "      <td>2765.90</td>\n",
       "      <td>95</td>\n",
       "      <td>3230</td>\n",
       "      <td>-464.10</td>\n",
       "      <td>May</td>\n",
       "      <td>2</td>\n",
       "      <td>Reims</td>\n",
       "      <td>France</td>\n",
       "    </tr>\n",
       "    <tr>\n",
       "      <th>2</th>\n",
       "      <td>Motorcycles</td>\n",
       "      <td>41</td>\n",
       "      <td>Medium</td>\n",
       "      <td>94.74</td>\n",
       "      <td>3884.34</td>\n",
       "      <td>95</td>\n",
       "      <td>3895</td>\n",
       "      <td>-10.66</td>\n",
       "      <td>July</td>\n",
       "      <td>3</td>\n",
       "      <td>Paris</td>\n",
       "      <td>France</td>\n",
       "    </tr>\n",
       "    <tr>\n",
       "      <th>3</th>\n",
       "      <td>Motorcycles</td>\n",
       "      <td>45</td>\n",
       "      <td>Medium</td>\n",
       "      <td>83.26</td>\n",
       "      <td>3746.70</td>\n",
       "      <td>95</td>\n",
       "      <td>4275</td>\n",
       "      <td>-528.30</td>\n",
       "      <td>August</td>\n",
       "      <td>3</td>\n",
       "      <td>Pasadena</td>\n",
       "      <td>USA</td>\n",
       "    </tr>\n",
       "    <tr>\n",
       "      <th>4</th>\n",
       "      <td>Motorcycles</td>\n",
       "      <td>49</td>\n",
       "      <td>Medium</td>\n",
       "      <td>100.00</td>\n",
       "      <td>4900.00</td>\n",
       "      <td>95</td>\n",
       "      <td>4655</td>\n",
       "      <td>245.00</td>\n",
       "      <td>October</td>\n",
       "      <td>4</td>\n",
       "      <td>San Francisco</td>\n",
       "      <td>USA</td>\n",
       "    </tr>\n",
       "  </tbody>\n",
       "</table>\n",
       "</div>"
      ],
      "text/plain": [
       "   productline  quantityordered dealsize  priceeach    sales  msrp  expsales  \\\n",
       "0  Motorcycles               30    Small      95.70  2871.00    95      2850   \n",
       "1  Motorcycles               34    Small      81.35  2765.90    95      3230   \n",
       "2  Motorcycles               41   Medium      94.74  3884.34    95      3895   \n",
       "3  Motorcycles               45   Medium      83.26  3746.70    95      4275   \n",
       "4  Motorcycles               49   Medium     100.00  4900.00    95      4655   \n",
       "\n",
       "   profit_loss monthordered  qtr_id           city country  \n",
       "0        21.00     February       1            NYC     USA  \n",
       "1      -464.10          May       2          Reims  France  \n",
       "2       -10.66         July       3          Paris  France  \n",
       "3      -528.30       August       3       Pasadena     USA  \n",
       "4       245.00      October       4  San Francisco     USA  "
      ]
     },
     "execution_count": 4,
     "metadata": {},
     "output_type": "execute_result"
    }
   ],
   "source": [
    "df.head()"
   ]
  },
  {
   "cell_type": "code",
   "execution_count": null,
   "id": "556998f9",
   "metadata": {},
   "outputs": [],
   "source": []
  },
  {
   "cell_type": "markdown",
   "id": "e89bcddf",
   "metadata": {},
   "source": [
    "## HEATMAP AND CORRELATION"
   ]
  },
  {
   "cell_type": "code",
   "execution_count": 5,
   "id": "7c263d92",
   "metadata": {},
   "outputs": [
    {
     "data": {
      "text/html": [
       "<div>\n",
       "<style scoped>\n",
       "    .dataframe tbody tr th:only-of-type {\n",
       "        vertical-align: middle;\n",
       "    }\n",
       "\n",
       "    .dataframe tbody tr th {\n",
       "        vertical-align: top;\n",
       "    }\n",
       "\n",
       "    .dataframe thead th {\n",
       "        text-align: right;\n",
       "    }\n",
       "</style>\n",
       "<table border=\"1\" class=\"dataframe\">\n",
       "  <thead>\n",
       "    <tr style=\"text-align: right;\">\n",
       "      <th></th>\n",
       "      <th>quantityordered</th>\n",
       "      <th>priceeach</th>\n",
       "      <th>sales</th>\n",
       "      <th>msrp</th>\n",
       "      <th>expsales</th>\n",
       "      <th>profit_loss</th>\n",
       "      <th>qtr_id</th>\n",
       "    </tr>\n",
       "  </thead>\n",
       "  <tbody>\n",
       "    <tr>\n",
       "      <th>quantityordered</th>\n",
       "      <td>1.000000</td>\n",
       "      <td>0.005564</td>\n",
       "      <td>0.748820</td>\n",
       "      <td>0.017881</td>\n",
       "      <td>0.574740</td>\n",
       "      <td>-0.174548</td>\n",
       "      <td>-0.035323</td>\n",
       "    </tr>\n",
       "    <tr>\n",
       "      <th>priceeach</th>\n",
       "      <td>0.005564</td>\n",
       "      <td>1.000000</td>\n",
       "      <td>0.643708</td>\n",
       "      <td>0.670625</td>\n",
       "      <td>0.534752</td>\n",
       "      <td>-0.214666</td>\n",
       "      <td>0.008712</td>\n",
       "    </tr>\n",
       "    <tr>\n",
       "      <th>sales</th>\n",
       "      <td>0.748820</td>\n",
       "      <td>0.643708</td>\n",
       "      <td>1.000000</td>\n",
       "      <td>0.443152</td>\n",
       "      <td>0.796492</td>\n",
       "      <td>-0.279097</td>\n",
       "      <td>-0.021958</td>\n",
       "    </tr>\n",
       "    <tr>\n",
       "      <th>msrp</th>\n",
       "      <td>0.017881</td>\n",
       "      <td>0.670625</td>\n",
       "      <td>0.443152</td>\n",
       "      <td>1.000000</td>\n",
       "      <td>0.799559</td>\n",
       "      <td>-0.832930</td>\n",
       "      <td>0.010234</td>\n",
       "    </tr>\n",
       "    <tr>\n",
       "      <th>expsales</th>\n",
       "      <td>0.574740</td>\n",
       "      <td>0.534752</td>\n",
       "      <td>0.796492</td>\n",
       "      <td>0.799559</td>\n",
       "      <td>1.000000</td>\n",
       "      <td>-0.802921</td>\n",
       "      <td>-0.010057</td>\n",
       "    </tr>\n",
       "    <tr>\n",
       "      <th>profit_loss</th>\n",
       "      <td>-0.174548</td>\n",
       "      <td>-0.214666</td>\n",
       "      <td>-0.279097</td>\n",
       "      <td>-0.832930</td>\n",
       "      <td>-0.802921</td>\n",
       "      <td>1.000000</td>\n",
       "      <td>-0.005675</td>\n",
       "    </tr>\n",
       "    <tr>\n",
       "      <th>qtr_id</th>\n",
       "      <td>-0.035323</td>\n",
       "      <td>0.008712</td>\n",
       "      <td>-0.021958</td>\n",
       "      <td>0.010234</td>\n",
       "      <td>-0.010057</td>\n",
       "      <td>-0.005675</td>\n",
       "      <td>1.000000</td>\n",
       "    </tr>\n",
       "  </tbody>\n",
       "</table>\n",
       "</div>"
      ],
      "text/plain": [
       "                 quantityordered  priceeach     sales      msrp  expsales  \\\n",
       "quantityordered         1.000000   0.005564  0.748820  0.017881  0.574740   \n",
       "priceeach               0.005564   1.000000  0.643708  0.670625  0.534752   \n",
       "sales                   0.748820   0.643708  1.000000  0.443152  0.796492   \n",
       "msrp                    0.017881   0.670625  0.443152  1.000000  0.799559   \n",
       "expsales                0.574740   0.534752  0.796492  0.799559  1.000000   \n",
       "profit_loss            -0.174548  -0.214666 -0.279097 -0.832930 -0.802921   \n",
       "qtr_id                 -0.035323   0.008712 -0.021958  0.010234 -0.010057   \n",
       "\n",
       "                 profit_loss    qtr_id  \n",
       "quantityordered    -0.174548 -0.035323  \n",
       "priceeach          -0.214666  0.008712  \n",
       "sales              -0.279097 -0.021958  \n",
       "msrp               -0.832930  0.010234  \n",
       "expsales           -0.802921 -0.010057  \n",
       "profit_loss         1.000000 -0.005675  \n",
       "qtr_id             -0.005675  1.000000  "
      ]
     },
     "execution_count": 5,
     "metadata": {},
     "output_type": "execute_result"
    }
   ],
   "source": [
    "df.corr()"
   ]
  },
  {
   "cell_type": "code",
   "execution_count": null,
   "id": "72cabd5b",
   "metadata": {},
   "outputs": [],
   "source": []
  },
  {
   "cell_type": "code",
   "execution_count": 6,
   "id": "5bb9c4ff",
   "metadata": {},
   "outputs": [
    {
     "data": {
      "image/png": "[encoded data removed]",
      "text/plain": [
       "<Figure size 1440x720 with 2 Axes>"
      ]
     },
     "metadata": {
      "needs_background": "light"
     },
     "output_type": "display_data"
    }
   ],
   "source": [
    "plt.figure(figsize=(20,10))\n",
    "sns.heatmap(df.corr(),vmin=-0.5,vmax=0.5,annot=True,fmt='.2f',cmap=\"Spectral\")\n",
    "plt.show()"
   ]
  },
  {
   "cell_type": "code",
   "execution_count": null,
   "id": "1cf4e2ce",
   "metadata": {},
   "outputs": [],
   "source": []
  },
  {
   "cell_type": "markdown",
   "id": "0b88d1b3",
   "metadata": {},
   "source": [
    "## SPLITTING OUR DATASET"
   ]
  },
  {
   "cell_type": "code",
   "execution_count": null,
   "id": "627d162e",
   "metadata": {},
   "outputs": [],
   "source": []
  },
  {
   "cell_type": "code",
   "execution_count": 7,
   "id": "ef72be21",
   "metadata": {},
   "outputs": [
    {
     "name": "stdout",
     "output_type": "stream",
     "text": [
      "<class 'pandas.core.frame.DataFrame'>\n",
      "RangeIndex: 2823 entries, 0 to 2822\n",
      "Data columns (total 12 columns):\n",
      " #   Column           Non-Null Count  Dtype  \n",
      "---  ------           --------------  -----  \n",
      " 0   productline      2823 non-null   object \n",
      " 1   quantityordered  2823 non-null   int64  \n",
      " 2   dealsize         2823 non-null   object \n",
      " 3   priceeach        2823 non-null   float64\n",
      " 4   sales            2823 non-null   float64\n",
      " 5   msrp             2823 non-null   int64  \n",
      " 6   expsales         2823 non-null   int64  \n",
      " 7   profit_loss      2823 non-null   float64\n",
      " 8   monthordered     2823 non-null   object \n",
      " 9   qtr_id           2823 non-null   int64  \n",
      " 10  city             2823 non-null   object \n",
      " 11  country          2823 non-null   object \n",
      "dtypes: float64(3), int64(4), object(5)\n",
      "memory usage: 264.8+ KB\n"
     ]
    }
   ],
   "source": [
    "df.info()"
   ]
  },
  {
   "cell_type": "markdown",
   "id": "a0acc356",
   "metadata": {},
   "source": [
    "USING LABEL ENCODER FOR THE OBJECT BASED COLUMNS"
   ]
  },
  {
   "cell_type": "code",
   "execution_count": 9,
   "id": "e15e6663",
   "metadata": {},
   "outputs": [
    {
     "name": "stdout",
     "output_type": "stream",
     "text": [
      "Index(['productline', 'dealsize', 'monthordered', 'city', 'country'], dtype='object')\n"
     ]
    }
   ],
   "source": [
    "obj_col = df.select_dtypes(include = \"object\").columns\n",
    "print(obj_col)"
   ]
  },
  {
   "cell_type": "code",
   "execution_count": 10,
   "id": "47cdf82d",
   "metadata": {},
   "outputs": [],
   "source": [
    "le = LabelEncoder()\n",
    "\n",
    "for i in obj_col:\n",
    "    df[i] = le.fit_transform(df[i])"
   ]
  },
  {
   "cell_type": "markdown",
   "id": "a051ae3c",
   "metadata": {},
   "source": [
    "SCALING THE DATASET"
   ]
  },
  {
   "cell_type": "code",
   "execution_count": 11,
   "id": "c73f2bfb",
   "metadata": {},
   "outputs": [],
   "source": [
    "scaler = MinMaxScaler()"
   ]
  },
  {
   "cell_type": "code",
   "execution_count": 12,
   "id": "dfea7184",
   "metadata": {},
   "outputs": [],
   "source": [
    "dl = pd.DataFrame(scaler.fit_transform(df), columns= df.columns)"
   ]
  },
  {
   "cell_type": "code",
   "execution_count": 13,
   "id": "f20112b0",
   "metadata": {},
   "outputs": [
    {
     "data": {
      "text/html": [
       "<div>\n",
       "<style scoped>\n",
       "    .dataframe tbody tr th:only-of-type {\n",
       "        vertical-align: middle;\n",
       "    }\n",
       "\n",
       "    .dataframe tbody tr th {\n",
       "        vertical-align: top;\n",
       "    }\n",
       "\n",
       "    .dataframe thead th {\n",
       "        text-align: right;\n",
       "    }\n",
       "</style>\n",
       "<table border=\"1\" class=\"dataframe\">\n",
       "  <thead>\n",
       "    <tr style=\"text-align: right;\">\n",
       "      <th></th>\n",
       "      <th>productline</th>\n",
       "      <th>quantityordered</th>\n",
       "      <th>dealsize</th>\n",
       "      <th>priceeach</th>\n",
       "      <th>sales</th>\n",
       "      <th>msrp</th>\n",
       "      <th>expsales</th>\n",
       "      <th>profit_loss</th>\n",
       "      <th>monthordered</th>\n",
       "      <th>qtr_id</th>\n",
       "      <th>city</th>\n",
       "      <th>country</th>\n",
       "    </tr>\n",
       "  </thead>\n",
       "  <tbody>\n",
       "    <tr>\n",
       "      <th>0</th>\n",
       "      <td>0.166667</td>\n",
       "      <td>0.263736</td>\n",
       "      <td>1.0</td>\n",
       "      <td>0.941193</td>\n",
       "      <td>0.278877</td>\n",
       "      <td>0.342541</td>\n",
       "      <td>0.185802</td>\n",
       "      <td>0.699682</td>\n",
       "      <td>0.272727</td>\n",
       "      <td>0.000000</td>\n",
       "      <td>0.583333</td>\n",
       "      <td>1.000000</td>\n",
       "    </tr>\n",
       "    <tr>\n",
       "      <th>1</th>\n",
       "      <td>0.166667</td>\n",
       "      <td>0.307692</td>\n",
       "      <td>1.0</td>\n",
       "      <td>0.744940</td>\n",
       "      <td>0.266608</td>\n",
       "      <td>0.342541</td>\n",
       "      <td>0.216527</td>\n",
       "      <td>0.654084</td>\n",
       "      <td>0.727273</td>\n",
       "      <td>0.333333</td>\n",
       "      <td>0.777778</td>\n",
       "      <td>0.333333</td>\n",
       "    </tr>\n",
       "    <tr>\n",
       "      <th>2</th>\n",
       "      <td>0.166667</td>\n",
       "      <td>0.384615</td>\n",
       "      <td>0.5</td>\n",
       "      <td>0.928063</td>\n",
       "      <td>0.397175</td>\n",
       "      <td>0.342541</td>\n",
       "      <td>0.270294</td>\n",
       "      <td>0.696706</td>\n",
       "      <td>0.454545</td>\n",
       "      <td>0.666667</td>\n",
       "      <td>0.722222</td>\n",
       "      <td>0.333333</td>\n",
       "    </tr>\n",
       "    <tr>\n",
       "      <th>3</th>\n",
       "      <td>0.166667</td>\n",
       "      <td>0.428571</td>\n",
       "      <td>0.5</td>\n",
       "      <td>0.771061</td>\n",
       "      <td>0.381107</td>\n",
       "      <td>0.342541</td>\n",
       "      <td>0.301019</td>\n",
       "      <td>0.648050</td>\n",
       "      <td>0.090909</td>\n",
       "      <td>0.666667</td>\n",
       "      <td>0.736111</td>\n",
       "      <td>1.000000</td>\n",
       "    </tr>\n",
       "    <tr>\n",
       "      <th>4</th>\n",
       "      <td>0.166667</td>\n",
       "      <td>0.472527</td>\n",
       "      <td>0.5</td>\n",
       "      <td>1.000000</td>\n",
       "      <td>0.515743</td>\n",
       "      <td>0.342541</td>\n",
       "      <td>0.331743</td>\n",
       "      <td>0.720737</td>\n",
       "      <td>0.909091</td>\n",
       "      <td>1.000000</td>\n",
       "      <td>0.819444</td>\n",
       "      <td>1.000000</td>\n",
       "    </tr>\n",
       "  </tbody>\n",
       "</table>\n",
       "</div>"
      ],
      "text/plain": [
       "   productline  quantityordered  dealsize  priceeach     sales      msrp  \\\n",
       "0     0.166667         0.263736       1.0   0.941193  0.278877  0.342541   \n",
       "1     0.166667         0.307692       1.0   0.744940  0.266608  0.342541   \n",
       "2     0.166667         0.384615       0.5   0.928063  0.397175  0.342541   \n",
       "3     0.166667         0.428571       0.5   0.771061  0.381107  0.342541   \n",
       "4     0.166667         0.472527       0.5   1.000000  0.515743  0.342541   \n",
       "\n",
       "   expsales  profit_loss  monthordered    qtr_id      city   country  \n",
       "0  0.185802     0.699682      0.272727  0.000000  0.583333  1.000000  \n",
       "1  0.216527     0.654084      0.727273  0.333333  0.777778  0.333333  \n",
       "2  0.270294     0.696706      0.454545  0.666667  0.722222  0.333333  \n",
       "3  0.301019     0.648050      0.090909  0.666667  0.736111  1.000000  \n",
       "4  0.331743     0.720737      0.909091  1.000000  0.819444  1.000000  "
      ]
     },
     "execution_count": 13,
     "metadata": {},
     "output_type": "execute_result"
    }
   ],
   "source": [
    "dl.head()"
   ]
  },
  {
   "cell_type": "code",
   "execution_count": null,
   "id": "af20b4fc",
   "metadata": {},
   "outputs": [],
   "source": []
  },
  {
   "cell_type": "code",
   "execution_count": 14,
   "id": "09c3b79c",
   "metadata": {},
   "outputs": [],
   "source": [
    "x = dl.drop([\"sales\", \"priceeach\", \"expsales\", \"profit_loss\"], axis = 1)\n",
    "y = dl[\"expsales\"]"
   ]
  },
  {
   "cell_type": "code",
   "execution_count": 15,
   "id": "e94f00df",
   "metadata": {},
   "outputs": [],
   "source": [
    "x_train, x_test, y_train, y_test = train_test_split(x, y, test_size=0.3, random_state=42)"
   ]
  },
  {
   "cell_type": "code",
   "execution_count": 16,
   "id": "d6cf7c7a",
   "metadata": {},
   "outputs": [
    {
     "data": {
      "text/plain": [
       "((1976, 8), (1976,), (847, 8), (847,))"
      ]
     },
     "execution_count": 16,
     "metadata": {},
     "output_type": "execute_result"
    }
   ],
   "source": [
    "x_train.shape, y_train.shape, x_test.shape, y_test.shape"
   ]
  },
  {
   "cell_type": "code",
   "execution_count": null,
   "id": "375272b8",
   "metadata": {},
   "outputs": [],
   "source": []
  },
  {
   "cell_type": "markdown",
   "id": "597b81ef",
   "metadata": {},
   "source": [
    "### CHECKING WHICH MODEL WILL BE PERFECT"
   ]
  },
  {
   "cell_type": "code",
   "execution_count": 17,
   "id": "b118fd31",
   "metadata": {},
   "outputs": [],
   "source": [
    "##put the models in a dict\n",
    "\n",
    "models = {\n",
    "    \"RandomForestRegressor\": RandomForestRegressor(),\n",
    "    \"GradientBoostingRegressor\": GradientBoostingRegressor(),\n",
    "    \"LinearRegression\": LinearRegression(),\n",
    "    \"Ridge\": Ridge(),\n",
    "    \"Lasso\": Lasso(),\n",
    "    \"SVR\": SVR(),\n",
    "    \"DecisionTreeRegressor\": DecisionTreeRegressor(),\n",
    "    \"KNeighborsRegressor\": KNeighborsRegressor(),\n",
    "    \"XGBRegressor\": XGBRegressor()\n",
    "}"
   ]
  },
  {
   "cell_type": "code",
   "execution_count": 18,
   "id": "ea55e448",
   "metadata": {},
   "outputs": [],
   "source": [
    "##set up a function to test and train the datasets using each model and evaluate them\n",
    "\n",
    "def model_evaluation(models, X_train, X_test, Y_train, Y_test):\n",
    "    ##dictionry for the models and their evaluation score\n",
    "    np.random.seed(42)\n",
    "    \n",
    "    score = {}\n",
    "    \n",
    "   \n",
    "    for m_name, model in models.items():\n",
    "        model.fit(X_train, Y_train)\n",
    "        \n",
    "        score[m_name] = model.score(X_test, Y_test)\n",
    "    return score"
   ]
  },
  {
   "cell_type": "code",
   "execution_count": 19,
   "id": "d89e769b",
   "metadata": {},
   "outputs": [
    {
     "name": "stdout",
     "output_type": "stream",
     "text": [
      "Wall time: 2.88 s\n"
     ]
    },
    {
     "data": {
      "text/plain": [
       "{'RandomForestRegressor': 0.9904527608212254,\n",
       " 'GradientBoostingRegressor': 0.993570730506093,\n",
       " 'LinearRegression': 0.9543966804111629,\n",
       " 'Ridge': 0.9540049591718578,\n",
       " 'Lasso': -0.00103854440483242,\n",
       " 'SVR': 0.8853517536852026,\n",
       " 'DecisionTreeRegressor': 0.9793605448029523,\n",
       " 'KNeighborsRegressor': 0.777156633950947,\n",
       " 'XGBRegressor': 0.9909505704313132}"
      ]
     },
     "execution_count": 19,
     "metadata": {},
     "output_type": "execute_result"
    }
   ],
   "source": [
    "%%time\n",
    "pp = model_evaluation(models = models, \n",
    "                      X_train=x_train,\n",
    "                      X_test=x_test,\n",
    "                      Y_train=y_train,\n",
    "                      Y_test=y_test\n",
    "                      )\n",
    "\n",
    "pp\n"
   ]
  },
  {
   "cell_type": "code",
   "execution_count": 20,
   "id": "66aa35df",
   "metadata": {},
   "outputs": [
    {
     "data": {
      "image/png": "[encoded data removed]",
      "text/plain": [
       "<Figure size 432x288 with 1 Axes>"
      ]
     },
     "metadata": {
      "needs_background": "light"
     },
     "output_type": "display_data"
    }
   ],
   "source": [
    "model_compare = pd.DataFrame(pp, index = [\"scores\"])\n",
    "# model_compare.plot(kind = \"bar\", rot = 30)\n",
    "model_compare.T.plot.bar();"
   ]
  },
  {
   "cell_type": "markdown",
   "id": "7264c53e",
   "metadata": {},
   "source": [
    "GRADIENT BOOST REGRESSOR IS THE BEST MODEL TO USE BECAUSE IT HAS THE HIGHEST SCORE"
   ]
  },
  {
   "cell_type": "code",
   "execution_count": null,
   "id": "da594fd7",
   "metadata": {},
   "outputs": [],
   "source": []
  },
  {
   "cell_type": "markdown",
   "id": "25c2df5f",
   "metadata": {},
   "source": [
    "### FIT AND PREDICT"
   ]
  },
  {
   "cell_type": "code",
   "execution_count": null,
   "id": "5b58cfe1",
   "metadata": {},
   "outputs": [],
   "source": []
  },
  {
   "cell_type": "code",
   "execution_count": 21,
   "id": "fab64659",
   "metadata": {},
   "outputs": [
    {
     "data": {
      "text/plain": [
       "GradientBoostingRegressor()"
      ]
     },
     "execution_count": 21,
     "metadata": {},
     "output_type": "execute_result"
    }
   ],
   "source": [
    "grb = GradientBoostingRegressor()\n",
    "\n",
    "grb.fit(x_train, y_train)"
   ]
  },
  {
   "cell_type": "code",
   "execution_count": 22,
   "id": "2a158a22",
   "metadata": {},
   "outputs": [],
   "source": [
    "y_pred = grb.predict(x_test)"
   ]
  },
  {
   "cell_type": "code",
   "execution_count": 23,
   "id": "5fd797da",
   "metadata": {},
   "outputs": [],
   "source": [
    "model_df = pd.DataFrame({\"actual_values\": y_test,\n",
    "                        \"prdeicted_values\": y_pred})"
   ]
  },
  {
   "cell_type": "code",
   "execution_count": 24,
   "id": "0942dcf1",
   "metadata": {},
   "outputs": [
    {
     "data": {
      "text/html": [
       "<div>\n",
       "<style scoped>\n",
       "    .dataframe tbody tr th:only-of-type {\n",
       "        vertical-align: middle;\n",
       "    }\n",
       "\n",
       "    .dataframe tbody tr th {\n",
       "        vertical-align: top;\n",
       "    }\n",
       "\n",
       "    .dataframe thead th {\n",
       "        text-align: right;\n",
       "    }\n",
       "</style>\n",
       "<table border=\"1\" class=\"dataframe\">\n",
       "  <thead>\n",
       "    <tr style=\"text-align: right;\">\n",
       "      <th></th>\n",
       "      <th>actual_values</th>\n",
       "      <th>prdeicted_values</th>\n",
       "    </tr>\n",
       "  </thead>\n",
       "  <tbody>\n",
       "    <tr>\n",
       "      <th>1091</th>\n",
       "      <td>0.091203</td>\n",
       "      <td>0.091255</td>\n",
       "    </tr>\n",
       "    <tr>\n",
       "      <th>2328</th>\n",
       "      <td>0.161546</td>\n",
       "      <td>0.169677</td>\n",
       "    </tr>\n",
       "    <tr>\n",
       "      <th>1474</th>\n",
       "      <td>0.308538</td>\n",
       "      <td>0.323187</td>\n",
       "    </tr>\n",
       "    <tr>\n",
       "      <th>1437</th>\n",
       "      <td>0.309508</td>\n",
       "      <td>0.294679</td>\n",
       "    </tr>\n",
       "    <tr>\n",
       "      <th>1105</th>\n",
       "      <td>0.233506</td>\n",
       "      <td>0.235186</td>\n",
       "    </tr>\n",
       "    <tr>\n",
       "      <th>...</th>\n",
       "      <td>...</td>\n",
       "      <td>...</td>\n",
       "    </tr>\n",
       "    <tr>\n",
       "      <th>643</th>\n",
       "      <td>0.230918</td>\n",
       "      <td>0.239092</td>\n",
       "    </tr>\n",
       "    <tr>\n",
       "      <th>1580</th>\n",
       "      <td>0.152005</td>\n",
       "      <td>0.157924</td>\n",
       "    </tr>\n",
       "    <tr>\n",
       "      <th>1298</th>\n",
       "      <td>0.271911</td>\n",
       "      <td>0.275187</td>\n",
       "    </tr>\n",
       "    <tr>\n",
       "      <th>1017</th>\n",
       "      <td>0.255983</td>\n",
       "      <td>0.258208</td>\n",
       "    </tr>\n",
       "    <tr>\n",
       "      <th>1752</th>\n",
       "      <td>0.219276</td>\n",
       "      <td>0.226066</td>\n",
       "    </tr>\n",
       "  </tbody>\n",
       "</table>\n",
       "<p>847 rows × 2 columns</p>\n",
       "</div>"
      ],
      "text/plain": [
       "      actual_values  prdeicted_values\n",
       "1091       0.091203          0.091255\n",
       "2328       0.161546          0.169677\n",
       "1474       0.308538          0.323187\n",
       "1437       0.309508          0.294679\n",
       "1105       0.233506          0.235186\n",
       "...             ...               ...\n",
       "643        0.230918          0.239092\n",
       "1580       0.152005          0.157924\n",
       "1298       0.271911          0.275187\n",
       "1017       0.255983          0.258208\n",
       "1752       0.219276          0.226066\n",
       "\n",
       "[847 rows x 2 columns]"
      ]
     },
     "execution_count": 24,
     "metadata": {},
     "output_type": "execute_result"
    }
   ],
   "source": [
    "model_df"
   ]
  },
  {
   "cell_type": "markdown",
   "id": "08690aab",
   "metadata": {},
   "source": [
    "### CALCULATING METRICS"
   ]
  },
  {
   "cell_type": "code",
   "execution_count": null,
   "id": "c24be067",
   "metadata": {},
   "outputs": [],
   "source": []
  },
  {
   "cell_type": "code",
   "execution_count": 25,
   "id": "30e76595",
   "metadata": {},
   "outputs": [
    {
     "data": {
      "text/plain": [
       "0.01"
      ]
     },
     "execution_count": 25,
     "metadata": {},
     "output_type": "execute_result"
    }
   ],
   "source": [
    "mae = round(mean_absolute_error(y_test, y_pred), 2)\n",
    "mae"
   ]
  },
  {
   "cell_type": "code",
   "execution_count": 26,
   "id": "54f6f396",
   "metadata": {},
   "outputs": [
    {
     "data": {
      "text/plain": [
       "0.0"
      ]
     },
     "execution_count": 26,
     "metadata": {},
     "output_type": "execute_result"
    }
   ],
   "source": [
    "mse = mean_squared_error(y_test, y_pred).round(2)\n",
    "mse"
   ]
  },
  {
   "cell_type": "code",
   "execution_count": 27,
   "id": "0d47b653",
   "metadata": {},
   "outputs": [
    {
     "data": {
      "text/plain": [
       "0.118"
      ]
     },
     "execution_count": 27,
     "metadata": {},
     "output_type": "execute_result"
    }
   ],
   "source": [
    "rss = np.sum(np.square(y_test - y_pred)).round(3)\n",
    "rss"
   ]
  },
  {
   "cell_type": "code",
   "execution_count": null,
   "id": "b364445c",
   "metadata": {},
   "outputs": [],
   "source": []
  },
  {
   "cell_type": "markdown",
   "id": "3399d6bf",
   "metadata": {},
   "source": [
    "### SCATTERPLOT"
   ]
  },
  {
   "cell_type": "code",
   "execution_count": null,
   "id": "a157beda",
   "metadata": {},
   "outputs": [],
   "source": []
  },
  {
   "cell_type": "code",
   "execution_count": 28,
   "id": "41ac90b3",
   "metadata": {},
   "outputs": [
    {
     "data": {
      "text/html": [
       "<div>\n",
       "<style scoped>\n",
       "    .dataframe tbody tr th:only-of-type {\n",
       "        vertical-align: middle;\n",
       "    }\n",
       "\n",
       "    .dataframe tbody tr th {\n",
       "        vertical-align: top;\n",
       "    }\n",
       "\n",
       "    .dataframe thead th {\n",
       "        text-align: right;\n",
       "    }\n",
       "</style>\n",
       "<table border=\"1\" class=\"dataframe\">\n",
       "  <thead>\n",
       "    <tr style=\"text-align: right;\">\n",
       "      <th></th>\n",
       "      <th>actual_values</th>\n",
       "      <th>prdeicted_values</th>\n",
       "    </tr>\n",
       "  </thead>\n",
       "  <tbody>\n",
       "    <tr>\n",
       "      <th>1091</th>\n",
       "      <td>0.091203</td>\n",
       "      <td>0.091255</td>\n",
       "    </tr>\n",
       "    <tr>\n",
       "      <th>2328</th>\n",
       "      <td>0.161546</td>\n",
       "      <td>0.169677</td>\n",
       "    </tr>\n",
       "    <tr>\n",
       "      <th>1474</th>\n",
       "      <td>0.308538</td>\n",
       "      <td>0.323187</td>\n",
       "    </tr>\n",
       "    <tr>\n",
       "      <th>1437</th>\n",
       "      <td>0.309508</td>\n",
       "      <td>0.294679</td>\n",
       "    </tr>\n",
       "    <tr>\n",
       "      <th>1105</th>\n",
       "      <td>0.233506</td>\n",
       "      <td>0.235186</td>\n",
       "    </tr>\n",
       "    <tr>\n",
       "      <th>...</th>\n",
       "      <td>...</td>\n",
       "      <td>...</td>\n",
       "    </tr>\n",
       "    <tr>\n",
       "      <th>643</th>\n",
       "      <td>0.230918</td>\n",
       "      <td>0.239092</td>\n",
       "    </tr>\n",
       "    <tr>\n",
       "      <th>1580</th>\n",
       "      <td>0.152005</td>\n",
       "      <td>0.157924</td>\n",
       "    </tr>\n",
       "    <tr>\n",
       "      <th>1298</th>\n",
       "      <td>0.271911</td>\n",
       "      <td>0.275187</td>\n",
       "    </tr>\n",
       "    <tr>\n",
       "      <th>1017</th>\n",
       "      <td>0.255983</td>\n",
       "      <td>0.258208</td>\n",
       "    </tr>\n",
       "    <tr>\n",
       "      <th>1752</th>\n",
       "      <td>0.219276</td>\n",
       "      <td>0.226066</td>\n",
       "    </tr>\n",
       "  </tbody>\n",
       "</table>\n",
       "<p>847 rows × 2 columns</p>\n",
       "</div>"
      ],
      "text/plain": [
       "      actual_values  prdeicted_values\n",
       "1091       0.091203          0.091255\n",
       "2328       0.161546          0.169677\n",
       "1474       0.308538          0.323187\n",
       "1437       0.309508          0.294679\n",
       "1105       0.233506          0.235186\n",
       "...             ...               ...\n",
       "643        0.230918          0.239092\n",
       "1580       0.152005          0.157924\n",
       "1298       0.271911          0.275187\n",
       "1017       0.255983          0.258208\n",
       "1752       0.219276          0.226066\n",
       "\n",
       "[847 rows x 2 columns]"
      ]
     },
     "execution_count": 28,
     "metadata": {},
     "output_type": "execute_result"
    }
   ],
   "source": [
    "model_df"
   ]
  },
  {
   "cell_type": "code",
   "execution_count": 29,
   "id": "a827a2dc",
   "metadata": {},
   "outputs": [
    {
     "data": {
      "image/png": "[encoded data removed]",
      "text/plain": [
       "<Figure size 720x504 with 1 Axes>"
      ]
     },
     "metadata": {
      "needs_background": "light"
     },
     "output_type": "display_data"
    }
   ],
   "source": [
    "x = np.arange(0, len(model_df), 1)\n",
    "fig, ax = plt.subplots(figsize = (10, 7))\n",
    "ax.scatter(x, model_df[\"actual_values\"], color = \"blue\", label = \"actual_values\")\n",
    "ax.scatter(x, model_df[\"prdeicted_values\"], color = \"red\", label = \"prdeicted_values\")\n",
    "ax.legend(loc=(1, 0.5));"
   ]
  },
  {
   "cell_type": "markdown",
   "id": "4c7cc39a",
   "metadata": {},
   "source": [
    "MOST OF OUR PREDICTIONS WERE SPOT ON\n",
    "\n"
   ]
  },
  {
   "cell_type": "code",
   "execution_count": null,
   "id": "c495f394",
   "metadata": {},
   "outputs": [],
   "source": []
  },
  {
   "cell_type": "markdown",
   "id": "e6bfc177",
   "metadata": {},
   "source": [
    "### DETERMINING WHICH FEATURES WERE IMPORTANT"
   ]
  },
  {
   "cell_type": "code",
   "execution_count": null,
   "id": "74751731",
   "metadata": {},
   "outputs": [],
   "source": []
  },
  {
   "cell_type": "code",
   "execution_count": 30,
   "id": "4d493f78",
   "metadata": {},
   "outputs": [
    {
     "data": {
      "text/plain": [
       "array([2.04608871e-06, 3.11127989e-01, 8.25951818e-02, 6.06118916e-01,\n",
       "       1.82026493e-05, 7.23899319e-06, 1.22281024e-04, 8.14447483e-06])"
      ]
     },
     "execution_count": 30,
     "metadata": {},
     "output_type": "execute_result"
    }
   ],
   "source": [
    "grb.feature_importances_"
   ]
  },
  {
   "cell_type": "code",
   "execution_count": 31,
   "id": "37c7f2b2",
   "metadata": {},
   "outputs": [],
   "source": [
    "# creating a function for visualing the feature importances\n",
    "\n",
    "def plot_importances(columns, importances, n=20):\n",
    "    df6 = (pd.DataFrame({'features': columns,\n",
    "                        'feature_importances': importances})\n",
    "                       .sort_values('feature_importances', ascending=False)\n",
    "                       .reset_index(drop=False))\n",
    "\n",
    "    # plotting the dataframe\n",
    "    fig, ax = plt.subplots(figsize=(10,8))\n",
    "    ax = sns.barplot(x = 'feature_importances', y = 'features', data = df6[:n], orient='h')\n",
    "    plt.ylabel('features')\n",
    "    plt.xlabel('feature_importances')"
   ]
  },
  {
   "cell_type": "code",
   "execution_count": 32,
   "id": "9e51ec97",
   "metadata": {},
   "outputs": [
    {
     "data": {
      "image/png": "[encoded data removed]",
      "text/plain": [
       "<Figure size 720x576 with 1 Axes>"
      ]
     },
     "metadata": {
      "needs_background": "light"
     },
     "output_type": "display_data"
    }
   ],
   "source": [
    "plot_importances(x_train.columns, grb.feature_importances_)"
   ]
  },
  {
   "cell_type": "code",
   "execution_count": null,
   "id": "9f2d5800",
   "metadata": {},
   "outputs": [],
   "source": []
  },
  {
   "cell_type": "markdown",
   "id": "4ace8bcf",
   "metadata": {},
   "source": [
    "### BY USING MSRP(MANAGEMENT'S STANDARD RETAIL PRICE) WE WERE ABLE TO PREDICT THE EXPECTED SALES THAT WILL BE MADE"
   ]
  },
  {
   "cell_type": "code",
   "execution_count": null,
   "id": "fc6e8584",
   "metadata": {},
   "outputs": [],
   "source": []
  }
 ],
 "metadata": {
  "kernelspec": {
   "display_name": "Python 3 (ipykernel)",
   "language": "python",
   "name": "python3"
  },
  "language_info": {
   "codemirror_mode": {
    "name": "ipython",
    "version": 3
   },
   "file_extension": ".py",
   "mimetype": "text/x-python",
   "name": "python",
   "nbconvert_exporter": "python",
   "pygments_lexer": "ipython3",
   "version": "3.9.7"
  }
 },
 "nbformat": 4,
 "nbformat_minor": 5
}
